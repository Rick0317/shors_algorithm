{
 "cells": [
  {
   "cell_type": "code",
   "execution_count": 1,
   "id": "eb9ea03b-e121-4c56-bc9e-9ed43c17247e",
   "metadata": {},
   "outputs": [
    {
     "name": "stderr",
     "output_type": "stream",
     "text": [
      "<frozen importlib._bootstrap>:219: RuntimeWarning: scipy._lib.messagestream.MessageStream size changed, may indicate binary incompatibility. Expected 56 from C header, got 64 from PyObject\n"
     ]
    }
   ],
   "source": [
    "import numpy as np\n",
    "\n",
    "# Importing standard Qiskit libraries\n",
    "from qiskit import QuantumCircuit, transpile, Aer, IBMQ\n"
   ]
  },
  {
   "cell_type": "markdown",
   "id": "97ba7e45-ebc7-4919-ae5d-ec316de723f6",
   "metadata": {},
   "source": [
    "# We need to define a function which defines a controlled U gate whose eigenvalue reflects the phase."
   ]
  },
  {
   "cell_type": "code",
   "execution_count": null,
   "id": "dbe21f0f-3c26-4b4f-928a-9f355d303fac",
   "metadata": {},
   "outputs": [],
   "source": [
    "def c_amod15(a, power):\n",
    "    \"\"\"\n",
    "    \"\"\"\n",
    "    if a not in [2, 4, 7, 8, 11, 13]:\n",
    "        raise ValueError(\"a should be in 2, 3, 7, 8, 11, 13\")\n",
    "    U = QuantumCircuit(4)\n",
    "    for iteration in range(power)::\n",
    "        if a in [2, 13]:\n",
    "            U.swap(0,1)\n",
    "            U.swap(1, 2)\n",
    "            U.swap(2, 3)\n",
    "        if a in [7,8]:\n",
    "            U.swap(2, 3)\n",
    "            U.swap(1,2)\n",
    "            U.swap(0,1) \n",
    "        if a in [4, 11]:\n",
    "            U.swap(1, 3)\n",
    "            U.swap(0,2)\n",
    "        if a in [7, 11, 13]:\n",
    "            for q in range(4):\n",
    "                U.x(q)\n",
    "    U = U.to_gate()\n",
    "    U.name = \"%i^%i mod 15\"%(a, power)\n",
    "    c_U = U.control()\n",
    "    return c_U"
   ]
  },
  {
   "cell_type": "code",
   "execution_count": null,
   "id": "90ea7eea-9d96-4746-8ef7-d87287bdabbb",
   "metadata": {},
   "outputs": [],
   "source": [
    "n_count = 8\n",
    "a = 7"
   ]
  },
  {
   "cell_type": "code",
   "execution_count": null,
   "id": "1aaece2b-f545-4c88-91ad-497a3ff64c50",
   "metadata": {},
   "outputs": [],
   "source": [
    "def qft_dagger(n):\n",
    "    \"\"\"\"\"\"\n",
    "    qc = QuantumCircuit(n)\n",
    "    for qubit in range(n//2):\n",
    "        qc.swap(qubit, n-qubit-1)\n",
    "    for j in range(n):\n",
    "        for m in range(j):\n",
    "            qc.cp(-np.pi/float(2**(j-m)), m, j)\n",
    "        qc.h(j)\n",
    "    qc.name = \"QFT_d\"\n",
    "    return qc"
   ]
  },
  {
   "cell_type": "code",
   "execution_count": null,
   "id": "d3f1d3a5-41d9-44c8-b961-4e3ee9137ddf",
   "metadata": {},
   "outputs": [],
   "source": [
    "qc = QuantumCircuit(n_count + 4, n_count)\n",
    "for q in range(n_count):\n",
    "    qc.h(q)\n",
    "qc.x(3 + n_count)\n",
    "\n",
    "for q in range(n_count):\n",
    "    qc.append(c_mod15(a, 2**q), [q] + [i+n_count for i in range(4)])\n",
    "    \n",
    "qc.append(qft_dagger(n_count), range(n_count))\n",
    "qc.measure(range(n_count), range(n_count))\n",
    "qc.draw(fold=-1)"
   ]
  },
  {
   "cell_type": "code",
   "execution_count": null,
   "id": "e4eb629c-9609-459b-9d98-1b6d5ad0f2ea",
   "metadata": {},
   "outputs": [],
   "source": [
    "aer_sim = Aer.get_backend(\"aer_simulator\")\n",
    "t_qc = transpile(qc, aer_sim)\n",
    "qobj = assemble(t_qc)\n",
    "results = aer_sim.run(qobj).result()\n",
    "counts = results.get_count()\n",
    "plot_histogram(counts)"
   ]
  }
 ],
 "metadata": {
  "kernelspec": {
   "display_name": "Python 3 (ipykernel)",
   "language": "python",
   "name": "python3"
  },
  "language_info": {
   "codemirror_mode": {
    "name": "ipython",
    "version": 3
   },
   "file_extension": ".py",
   "mimetype": "text/x-python",
   "name": "python",
   "nbconvert_exporter": "python",
   "pygments_lexer": "ipython3",
   "version": "3.8.13"
  },
  "widgets": {
   "application/vnd.jupyter.widget-state+json": {
    "state": {
     "0826b3592f914062aee27576d0dfbe0c": {
      "model_module": "@jupyter-widgets/controls",
      "model_module_version": "1.5.0",
      "model_name": "HTMLModel",
      "state": {
       "layout": "IPY_MODEL_63d8022359744a4694b601f88c46a6e7",
       "style": "IPY_MODEL_37d0779eea174c049343cb7660a02c76",
       "value": "<h5>Backend</h5>"
      }
     },
     "09c461bbcf9a498fa356b031f723da4b": {
      "model_module": "@jupyter-widgets/base",
      "model_module_version": "1.2.0",
      "model_name": "LayoutModel",
      "state": {
       "grid_area": "right",
       "padding": "0px 0px 0px 0px",
       "width": "70px"
      }
     },
     "23899ad594e24983bcfec6c72aaad3f9": {
      "model_module": "@jupyter-widgets/base",
      "model_module_version": "1.2.0",
      "model_name": "LayoutModel",
      "state": {
       "grid_template_areas": "\n                                       \". . . . right \"\n                                        ",
       "grid_template_columns": "20% 20% 20% 20% 20%",
       "width": "100%"
      }
     },
     "2d6e5b464909496bafc34e12cc315c9d": {
      "model_module": "@jupyter-widgets/controls",
      "model_module_version": "1.5.0",
      "model_name": "HTMLModel",
      "state": {
       "layout": "IPY_MODEL_47458f0f940b40749c60531b9a969706",
       "style": "IPY_MODEL_84a22866175f4e8b979961c9229ba636",
       "value": "<p style='font-family: IBM Plex Sans, Arial, Helvetica, sans-serif; font-size: 20px; font-weight: medium;'>Circuit Properties</p>"
      }
     },
     "2f830c05f97d40feab242709c40377c8": {
      "model_module": "@jupyter-widgets/controls",
      "model_module_version": "1.5.0",
      "model_name": "DescriptionStyleModel",
      "state": {
       "description_width": ""
      }
     },
     "37d0779eea174c049343cb7660a02c76": {
      "model_module": "@jupyter-widgets/controls",
      "model_module_version": "1.5.0",
      "model_name": "DescriptionStyleModel",
      "state": {
       "description_width": ""
      }
     },
     "3cbd12f404614ba78f15f75a03d0cea0": {
      "model_module": "@jupyter-widgets/controls",
      "model_module_version": "1.5.0",
      "model_name": "HBoxModel",
      "state": {
       "children": [
        "IPY_MODEL_fb140a3e031049048a623857fede89e9",
        "IPY_MODEL_0826b3592f914062aee27576d0dfbe0c",
        "IPY_MODEL_aeb6a3e751454411bfc695cdcddaf935",
        "IPY_MODEL_44f39f06a1524428b61c02059a69b5af",
        "IPY_MODEL_6e684596bde140d8b8ef5ee805b508c0"
       ],
       "layout": "IPY_MODEL_ba2915b4de8a4f6d9dd0ca401f898ada"
      }
     },
     "426eb41adb564e9294fbbce630d329dc": {
      "model_module": "@jupyter-widgets/controls",
      "model_module_version": "1.5.0",
      "model_name": "GridBoxModel",
      "state": {
       "children": [
        "IPY_MODEL_78a6f6bcaf344b3bb6d1041fd3e18872"
       ],
       "layout": "IPY_MODEL_23899ad594e24983bcfec6c72aaad3f9"
      }
     },
     "44f39f06a1524428b61c02059a69b5af": {
      "model_module": "@jupyter-widgets/controls",
      "model_module_version": "1.5.0",
      "model_name": "HTMLModel",
      "state": {
       "layout": "IPY_MODEL_e493d81dba834f0b88f1dd334ac285c6",
       "style": "IPY_MODEL_2f830c05f97d40feab242709c40377c8",
       "value": "<h5>Queue</h5>"
      }
     },
     "47458f0f940b40749c60531b9a969706": {
      "model_module": "@jupyter-widgets/base",
      "model_module_version": "1.2.0",
      "model_name": "LayoutModel",
      "state": {
       "margin": "0px 0px 10px 0px"
      }
     },
     "5d7e293d5d8a49b7a6f068048d8c9bf2": {
      "model_module": "@jupyter-widgets/base",
      "model_module_version": "1.2.0",
      "model_name": "LayoutModel",
      "state": {
       "width": "190px"
      }
     },
     "63d8022359744a4694b601f88c46a6e7": {
      "model_module": "@jupyter-widgets/base",
      "model_module_version": "1.2.0",
      "model_name": "LayoutModel",
      "state": {
       "width": "145px"
      }
     },
     "6e684596bde140d8b8ef5ee805b508c0": {
      "model_module": "@jupyter-widgets/controls",
      "model_module_version": "1.5.0",
      "model_name": "HTMLModel",
      "state": {
       "layout": "IPY_MODEL_b090e93cb5d1459dab3449aff2f45f51",
       "style": "IPY_MODEL_d0fa049521564bc9baf828117a6fb22f",
       "value": "<h5>Message</h5>"
      }
     },
     "78a6f6bcaf344b3bb6d1041fd3e18872": {
      "model_module": "@jupyter-widgets/controls",
      "model_module_version": "1.5.0",
      "model_name": "ButtonModel",
      "state": {
       "button_style": "primary",
       "description": "Clear",
       "layout": "IPY_MODEL_09c461bbcf9a498fa356b031f723da4b",
       "style": "IPY_MODEL_8433247276f840919e82cc1d844208ff"
      }
     },
     "8433247276f840919e82cc1d844208ff": {
      "model_module": "@jupyter-widgets/controls",
      "model_module_version": "1.5.0",
      "model_name": "ButtonStyleModel",
      "state": {}
     },
     "84a22866175f4e8b979961c9229ba636": {
      "model_module": "@jupyter-widgets/controls",
      "model_module_version": "1.5.0",
      "model_name": "DescriptionStyleModel",
      "state": {
       "description_width": ""
      }
     },
     "a88b86f31552403d84a5674e6ebf1d45": {
      "model_module": "@jupyter-widgets/controls",
      "model_module_version": "1.5.0",
      "model_name": "DescriptionStyleModel",
      "state": {
       "description_width": ""
      }
     },
     "aeb6a3e751454411bfc695cdcddaf935": {
      "model_module": "@jupyter-widgets/controls",
      "model_module_version": "1.5.0",
      "model_name": "HTMLModel",
      "state": {
       "layout": "IPY_MODEL_ee7d14521f7943d3bce931a7c23d91ee",
       "style": "IPY_MODEL_f379b6ea8e534983874b08370954cee2",
       "value": "<h5>Status</h5>"
      }
     },
     "b090e93cb5d1459dab3449aff2f45f51": {
      "model_module": "@jupyter-widgets/base",
      "model_module_version": "1.2.0",
      "model_name": "LayoutModel",
      "state": {}
     },
     "ba2915b4de8a4f6d9dd0ca401f898ada": {
      "model_module": "@jupyter-widgets/base",
      "model_module_version": "1.2.0",
      "model_name": "LayoutModel",
      "state": {
       "margin": "0px 0px 0px 37px",
       "width": "600px"
      }
     },
     "d0fa049521564bc9baf828117a6fb22f": {
      "model_module": "@jupyter-widgets/controls",
      "model_module_version": "1.5.0",
      "model_name": "DescriptionStyleModel",
      "state": {
       "description_width": ""
      }
     },
     "e493d81dba834f0b88f1dd334ac285c6": {
      "model_module": "@jupyter-widgets/base",
      "model_module_version": "1.2.0",
      "model_name": "LayoutModel",
      "state": {
       "width": "70px"
      }
     },
     "ee7d14521f7943d3bce931a7c23d91ee": {
      "model_module": "@jupyter-widgets/base",
      "model_module_version": "1.2.0",
      "model_name": "LayoutModel",
      "state": {
       "width": "95px"
      }
     },
     "f379b6ea8e534983874b08370954cee2": {
      "model_module": "@jupyter-widgets/controls",
      "model_module_version": "1.5.0",
      "model_name": "DescriptionStyleModel",
      "state": {
       "description_width": ""
      }
     },
     "fb140a3e031049048a623857fede89e9": {
      "model_module": "@jupyter-widgets/controls",
      "model_module_version": "1.5.0",
      "model_name": "HTMLModel",
      "state": {
       "layout": "IPY_MODEL_5d7e293d5d8a49b7a6f068048d8c9bf2",
       "style": "IPY_MODEL_a88b86f31552403d84a5674e6ebf1d45",
       "value": "<h5>Job ID</h5>"
      }
     }
    },
    "version_major": 2,
    "version_minor": 0
   }
  }
 },
 "nbformat": 4,
 "nbformat_minor": 5
}
